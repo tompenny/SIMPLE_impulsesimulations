{
 "cells": [
  {
   "cell_type": "code",
   "execution_count": 12,
   "metadata": {},
   "outputs": [],
   "source": [
    "import numpy as np\n",
    "import matplotlib.pyplot as plt\n",
    "import scipy.signal as scisig\n",
    "import scipy.optimize as opt\n",
    "import scipy.io as sio\n",
    "import simulation_utils as su\n",
    "import analysis_utils as au\n",
    "import importlib\n",
    "import h5py"
   ]
  },
  {
   "cell_type": "code",
   "execution_count": 20,
   "metadata": {},
   "outputs": [
    {
     "name": "stdout",
     "output_type": "stream",
     "text": [
      "0.00037589464325578164\n",
      "3.2034533360902215e-40\n"
     ]
    }
   ],
   "source": [
    "# Define some parameters\n",
    "\n",
    "w0 = 65000*2*np.pi # Natural frequency of oscillator\n",
    "P = 4*10**(-8) # Pressure in mbar\n",
    "T = 2930 # Environmental temperature\n",
    "R = (0.083)*10**(-6) # Particle Radius\n",
    "p = 2200 # Particle Denisty\n",
    "dtn = 1*10**(-8) # Timestep\n",
    "M = 4/3*np.pi*R**3*p # Particle mass\n",
    "kb = 1.38*10**(-23) # Boltzmann constant\n",
    "m = 29*1.67*10**(-27) # average mass of air particles\n",
    "v = np.sqrt(8*1.38*10**(-23)*T/(np.pi*m)) # velocity of air particles\n",
    "N0 = 2.43*10**(25) # Number density of air and ambient pressure\n",
    "P0 = 1000 # Ambient pressure\n",
    "N=N0*P/P0 # Number density of air at pressure P\n",
    "\n",
    "y = (4/3*np.pi)*(m*v*N*R**2)/(M) # Damping from air\n",
    "#y = 4.10568*1e-6*P*1e2/R # Antonio's damping from air\n",
    "\n",
    "print(y)\n",
    "print(4*kb*T*y*M)\n",
    "\n",
    "Snn = 10**(-21) # Displacement noise"
   ]
  },
  {
   "cell_type": "markdown",
   "metadata": {},
   "source": [
    "# Generating impulses and noise for a stationary transfer function oscillator"
   ]
  },
  {
   "cell_type": "code",
   "execution_count": 23,
   "metadata": {},
   "outputs": [],
   "source": [
    "# Simulation\n",
    "# This block generates the data and saves it\n",
    "# Calculating num_sims numbers of simulations with and without response\n",
    "# Also generating average response to impulse and noise template\n",
    "\n",
    "num_sims = 1000\n",
    "\n",
    "# feedback damping values to use\n",
    "yfb_l = np.array([4])*2*np.pi\n",
    "\n",
    "for yfb in yfb_l:\n",
    "    filename = 'D:/Simulation Data/240620/yfb' + str(round(yfb/2/np.pi))\n",
    "\n",
    "    # Some set-up\n",
    "    maxw = 5*10**5 # 500 kHz is enough to capture all dynamics\n",
    "    numbins = int(2*5*10**4*100*2*np.pi/yfb) # This is to ensure the particle amplitude decays to thermal levels\n",
    "    w = np.linspace(0, maxw*2*np.pi, numbins)\n",
    "    \n",
    "    # Generate impulse response\n",
    "    time = np.linspace(0, numbins/5/10**5/2, numbins)\n",
    "    ir = su.impulse_resp(time, time[int(numbins/2)], 10*10**(-10), y, yfb, w0) # Same impulse response every time so generate it here\n",
    "\n",
    "    # Generate some random number seeds\n",
    "    np.random.seed(85655219)\n",
    "    random_nums = np.random.uniform(0, 1000000, 6*num_sims) # These are the seeds we will use\n",
    "    \n",
    "    # Set-up arrays for calculating average response (s in optimal filter/data to fit s to)\n",
    "    avr_resp = np.zeros(numbins)\n",
    "    \n",
    "    # Now generate num_sims different thermally driven particles and add the impulse response\n",
    "    for i in range(num_sims):\n",
    "        randomlist, randomlist2, randomlist3 = su.generate_random_numbers(random_nums[3*i:3*(i+1)], Snn, numbins, maxw)\n",
    "        x = su.generate_displacement(w, w0, y, yfb, M, T, randomlist, randomlist2, randomlist3, ir)\n",
    "\n",
    "        # Save the time domain response\n",
    "        mdict = {'x': x}\n",
    "        sio.savemat(filename+'/Kicks/' + str(i) + '.mat', mdict)\n",
    "\n",
    "        # Add to average response\n",
    "        avr_resp += x\n",
    "\n",
    "    # Save average response to use as template/template fit\n",
    "    avr_resp /= num_sims\n",
    "    mdict = {'x':avr_resp}\n",
    "    sio.savemat(filename+'/Kicks/avr_resp.mat', mdict)\n",
    "\n",
    "    # Generate nums_sims new thermally driven particles with no impulse response to create noise template and to run optimal filter on for comparison\n",
    "\n",
    "    # Set-up array for noise template (J in optimal filter)\n",
    "    PSD_noise = np.zeros(int(numbins/2)+1)\n",
    "\n",
    "    # Create empty array for impulse response because we don't want and impulse\n",
    "    ir = np.zeros(numbins)\n",
    "\n",
    "    for i in range(num_sims, 2*num_sims):\n",
    "        n = i-num_sims\n",
    "        randomlist, randomlist2, randomlist3 = su.generate_random_numbers(random_nums[3*i:3*(i+1)], Snn, numbins, maxw)\n",
    "        x = su.generate_displacement(w, w0, y, yfb, M, T, randomlist, randomlist2, randomlist3, ir)\n",
    "\n",
    "        # Save the time domain response\n",
    "        mdict = {'x': x}\n",
    "        sio.savemat(filename+'/Noise/' + str(n) + '.mat', mdict)\n",
    "\n",
    "        # Calculate PSD and add to J\n",
    "        PSD = scisig.welch(x, fs = 10**6, nperseg = numbins)\n",
    "        PSD_noise += PSD[1]\n",
    "\n",
    "    # Save J\n",
    "    PSD_noise /= num_sims\n",
    "    PSD_freq = PSD[0]\n",
    "    mdict = {'J':PSD_noise, 'frequency':PSD_freq}\n",
    "    sio.savemat(filename+'/Noise/PSD.mat', mdict)\n"
   ]
  },
  {
   "cell_type": "code",
   "execution_count": 32,
   "metadata": {},
   "outputs": [
    {
     "data": {
      "image/png": "[encoded data removed]",
      "text/plain": [
       "<Figure size 640x480 with 1 Axes>"
      ]
     },
     "metadata": {},
     "output_type": "display_data"
    }
   ],
   "source": [
    "plt.plot(PSD_freq[160000:165000], PSD_noise[160000:165000])\n",
    "plt.yscale('log')"
   ]
  },
  {
   "cell_type": "markdown",
   "metadata": {},
   "source": [
    "# Generating data for a non-stationary transfer function oscillator"
   ]
  },
  {
   "cell_type": "markdown",
   "metadata": {},
   "source": [
    "In this first attempt I will try generating a stationary transfer function, reverse FTing it to time domain, create a modulated timebase then interpolate the displacement trace and finally FT back into the frequency domain. This should be the equivalent of modulating the central frequency of the oscillator. It is probably faster than doing everything in the time domain. First, I will try it on like 100 Hz data and try broadening with a sin modulation to 1 kHz or so. Then I will try it on lower damping data and time it to compare to generating stuff in the time domain."
   ]
  },
  {
   "cell_type": "code",
   "execution_count": 5,
   "metadata": {},
   "outputs": [],
   "source": [
    "importlib.reload(su)\n",
    "\n",
    "num_sims = 1000\n",
    "\n",
    "# I think saving J and average response the normal way is kind of pointless here but let's do it anyway\n",
    "# feedback damping values to use\n",
    "yfb_l = np.array([100, 10])*2*np.pi\n",
    "iter_l = [0.0, 0.005, 0.01, 0.02, 0.05, 0.1, 0.2]\n",
    "for yfb in yfb_l:\n",
    "    for iter in iter_l:\n",
    "        filename = 'D:/Simulation Data/240529/Frequency modulation/yfb' + str(round(yfb/2/np.pi)) + '/' + str(iter)\n",
    "\n",
    "        # Some set-up\n",
    "        maxw = 5*10**5 # 500 kHz is enough to capture all dynamics\n",
    "        numbins = int(2*5*10**4*100*2*np.pi/yfb) # This is to ensure the particle amplitude decays to thermal levels\n",
    "        w = np.linspace(0, maxw*2*np.pi, numbins)\n",
    "\n",
    "        # Generate some random number seeds\n",
    "        np.random.seed(85655219)\n",
    "        random_nums = np.random.uniform(0, 1000000, 6*num_sims) # These are the seeds we will use\n",
    "        np.random.seed(85634442)\n",
    "        phase = np.random.uniform(0, 1, 2*num_sims)\n",
    "        \n",
    "\n",
    "        # Set-up arrays for calculating average response (s in optimal filter/data to fit s to)\n",
    "        avr_resp = np.zeros(numbins)\n",
    "        \n",
    "        # Now generate num_sims different thermally driven particles and add the impulse response\n",
    "        time = np.linspace(0, numbins/5/10**5/2, numbins)\n",
    "        for i in range(0, num_sims):\n",
    "            n = i\n",
    "            randomlist, randomlist2, randomlist3 = su.generate_random_numbers(random_nums[3*i:3*(i+1)], Snn, numbins, maxw)\n",
    "            fm = su.generate_sawtooth_frequency_modulation_impulse(time, iter, phase[i])\n",
    "            ir = su.impulse_resp_fm(time, time[int(numbins/2)], 10*10**(-10), y, yfb, w0, fm)\n",
    "            x, t, tm = su.generate_displacement_fm(w, w0, y, yfb, M, T, randomlist, randomlist2, randomlist3, ir, iter, phase[i])\n",
    "\n",
    "            # Save time domain response\n",
    "            mdict = {'x': x, 'ir': ir, 'fm': fm} # saving timetrace, true impulse and true frequency modulation\n",
    "            su.save_data_hdf5(filename+'/Kicks/' + str(n) + '.hdf5', mdict)\n",
    "\n",
    "            # Add to average response\n",
    "            avr_resp += x\n",
    "\n",
    "        # Save average response to use as template/template fit\n",
    "        avr_resp /= num_sims\n",
    "        mdict = {'x':avr_resp}\n",
    "        su.save_data_hdf5(filename+'/Kicks/avr_resp.hdf5', mdict)\n",
    "\n",
    "        # Generate 1000 new thermally driven particles with no impulse response to create noise template and to run optimal filter on for comparison\n",
    "\n",
    "        # Set-up array for noise template (J in optimal filter)\n",
    "        PSD_noise = np.zeros(int(numbins/2)+1)\n",
    "\n",
    "        # Create empty array for impulse response because we don't want and impulse\n",
    "        ir = np.zeros(numbins)\n",
    "\n",
    "        for i in range(num_sims, 2*num_sims):\n",
    "            n = i-num_sims\n",
    "            randomlist, randomlist2, randomlist3 = su.generate_random_numbers(random_nums[3*i:3*(i+1)], Snn, numbins, maxw)\n",
    "            x, t, tm = su.generate_displacement_fm(w, w0, y, yfb, M, T, randomlist, randomlist2, randomlist3, ir, iter, phase[i])\n",
    "            fm = su.generate_sawtooth_frequency_modulation_impulse(time, iter, phase[i])\n",
    "            mdict = {'x': x, 'fm': fm} # saving timetrace, true impulse and true frequency modulation\n",
    "            su.save_data_hdf5(filename+'/Noise/' + str(n) + '.hdf5', mdict)\n",
    "            # Calculate PSD and add to J\n",
    "            PSD = scisig.welch(x, fs = 10**6, nperseg = numbins, window = 'boxcar')\n",
    "            PSD_noise += PSD[1]\n",
    "\n",
    "        # Save J\n",
    "        PSD_noise /= num_sims\n",
    "        PSD_freq = PSD[0]\n",
    "        mdict = {'J':PSD_noise, 'frequency':PSD_freq}\n",
    "        su.save_data_hdf5(filename+'/Noise/PSD.hdf5', mdict)"
   ]
  },
  {
   "cell_type": "code",
   "execution_count": 4,
   "metadata": {},
   "outputs": [
    {
     "data": {
      "text/plain": [
       "(array([-2.47232916e-11, -3.84270568e-11, -5.35738183e-11, ...,\n",
       "        -4.21340383e-11, -3.64949021e-11, -2.30559665e-11]),\n",
       " array([0.00000e+00, 1.00001e-06, 2.00002e-06, ..., 9.99980e-02,\n",
       "        9.99990e-02, 1.00000e-01]),\n",
       " array([0.00000e+00, 1.00001e-06, 2.00002e-06, ..., 9.99970e-02,\n",
       "        9.99980e-02, 9.99990e-02]))"
      ]
     },
     "execution_count": 4,
     "metadata": {},
     "output_type": "execute_result"
    }
   ],
   "source": [
    "x"
   ]
  },
  {
   "cell_type": "code",
   "execution_count": null,
   "metadata": {},
   "outputs": [],
   "source": []
  }
 ],
 "metadata": {
  "kernelspec": {
   "display_name": "base",
   "language": "python",
   "name": "python3"
  },
  "language_info": {
   "codemirror_mode": {
    "name": "ipython",
    "version": 3
   },
   "file_extension": ".py",
   "mimetype": "text/x-python",
   "name": "python",
   "nbconvert_exporter": "python",
   "pygments_lexer": "ipython3",
   "version": "3.11.7"
  }
 },
 "nbformat": 4,
 "nbformat_minor": 2
}
