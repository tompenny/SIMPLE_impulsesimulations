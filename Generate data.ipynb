{
 "cells": [
  {
   "cell_type": "code",
   "execution_count": 1,
   "metadata": {},
   "outputs": [],
   "source": [
    "import numpy as np\n",
    "import matplotlib.pyplot as plt\n",
    "import scipy.signal as scisig\n",
    "import scipy.optimize as opt\n",
    "import scipy.io as sio\n",
    "import simulation_utils as su"
   ]
  },
  {
   "cell_type": "code",
   "execution_count": 2,
   "metadata": {},
   "outputs": [
    {
     "name": "stdout",
     "output_type": "stream",
     "text": [
      "0.00029717080823618027\n"
     ]
    }
   ],
   "source": [
    "# Define some parameters\n",
    "\n",
    "w0 = 55000*2*np.pi # Natural frequency of oscillator\n",
    "P = 1*10**(-7) # Pressure in mbar\n",
    "T = 293 # Environmental temperature\n",
    "R = (0.083)*10**(-6) # Particle Radius\n",
    "p = 2200 # Particle Denisty\n",
    "dtn = 1*10**(-8) # Timestep\n",
    "M = 4/3*np.pi*R**3*p # Particle mass\n",
    "kb = 1.38*10**(-23) # Boltzmann constant\n",
    "m = 29*1.67*10**(-27) # average mass of air particles\n",
    "v = np.sqrt(8*1.38*10**(-23)*T/(np.pi*m)) # velocity of air particles\n",
    "N0 = 2.43*10**(25) # Number density of air and ambient pressure\n",
    "P0 = 1000 # Ambient pressure\n",
    "N=N0*P/P0 # Number density of air at pressure P\n",
    "\n",
    "y = (4/3*np.pi)*(m*v*N*R**2)/(M) # Damping from air\n",
    "#y = 4.10568*1e-6*P*1e2/R # Antonio's damping from air\n",
    "\n",
    "print(y)\n",
    "\n",
    "Snn = 10**(-28) # Displacement noise"
   ]
  },
  {
   "cell_type": "code",
   "execution_count": null,
   "metadata": {},
   "outputs": [],
   "source": [
    "# Simulation\n",
    "# This block generates the data and saves it\n",
    "# Calculating num_sims numbers of simulations with and without response\n",
    "# Also generating average response to impulse and noise template\n",
    "\n",
    "num_sims = 1000\n",
    "\n",
    "# feedback damping values to use\n",
    "yfb_l = np.array([10000, 1000, 100, 10, 1])*2*np.pi\n",
    "\n",
    "for yfb in yfb_l:\n",
    "    filename = 'D:/Simulation Data/240501/yfb' + str(round(yfb/2/np.pi))\n",
    "\n",
    "    # Some set-up\n",
    "    maxw = 5*10**5 # 500 kHz is enough to capture all dynamics\n",
    "    numbins = int(2*5*10**4*100*2*np.pi/yfb) # This is to ensure the particle amplitude decays to thermal levels\n",
    "    w = np.linspace(0, maxw*2*np.pi, numbins)\n",
    "    \n",
    "    # Generate impulse response\n",
    "    time = np.linspace(0, numbins/5/10**5/2, numbins)\n",
    "    ir = su.impulse_resp(time, time[int(numbins/2)], 10*10**(-10), y+yfb, w0) # Same impulse response every time so generate it here\n",
    "\n",
    "    # Generate some random number seeds\n",
    "    np.random.seed(85655219)\n",
    "    random_nums = np.random.uniform(0, 1000000, 6*num_sims) # These are the seeds we will use\n",
    "    \n",
    "    # Set-up arrays for calculating average response (s in optimal filter/data to fit s to)\n",
    "    avr_resp = np.zeros(numbins)\n",
    "    \n",
    "    # Now generate 1000 different thermally driven particles and add the impulse response\n",
    "    for i in range(num_sims):\n",
    "        randomlist, randomlist2, randomlist3 = su.generate_random_numbers(random_nums[3*i:3*(i+1)], Snn, numbins, maxw)\n",
    "        x = su.generate_displacement(w, w0, y, yfb, randomlist, randomlist2, randomlist3, ir)\n",
    "\n",
    "        # Save the time domain response\n",
    "        mdict = {'x': x}\n",
    "        sio.savemat(filename+'/Kicks/' + str(i) + '.mat', mdict)\n",
    "\n",
    "        # Add to average response\n",
    "        avr_resp += x\n",
    "\n",
    "    # Save average response to use as template/template fit\n",
    "    avr_resp /= num_sims\n",
    "    mdict = {'x':avr_resp}\n",
    "    sio.savemat(filename+'/Kicks/avr_resp.mat', mdict)\n",
    "\n",
    "    # Generate 1000 new thermally driven particles with no impulse response to create noise template and to run optimal filter on for comparison\n",
    "\n",
    "    # Set-up array for noise template (J in optimal filter)\n",
    "    PSD_noise = np.zeros(int(numbins/2)+1)\n",
    "\n",
    "    # Create empty array for impulse response because we don't want and impulse\n",
    "    ir = np.zeros(numbins)\n",
    "\n",
    "    for i in range(num_sims, 2*num_sims):\n",
    "        n = i-1000\n",
    "        randomlist, randomlist2, randomlist3 = su.generate_random_numbers(random_nums[3*i:3*(i+1)], Snn, numbins, maxw)\n",
    "        x = su.generate_displacement(w, w0, y, yfb, randomlist, randomlist2, randomlist3, ir)\n",
    "\n",
    "        # Save the time domain response\n",
    "        mdict = {'x': x}\n",
    "        sio.savemat(filename+'/Noise/' + str(n) + '.mat', mdict)\n",
    "\n",
    "        # Calculate PSD and add to J\n",
    "        PSD = scisig.welch(x, fs = 10**6, nperseg = numbins)\n",
    "        PSD_noise += PSD[1]\n",
    "\n",
    "    # Save J\n",
    "    PSD_noise /= num_sims\n",
    "    PSD_freq = PSD[0]\n",
    "    mdict = {'J':PSD_noise, 'frequency':PSD_freq}\n",
    "    sio.savemat(filename+'/Noise/PSD.mat', mdict)\n"
   ]
  }
 ],
 "metadata": {
  "kernelspec": {
   "display_name": "base",
   "language": "python",
   "name": "python3"
  },
  "language_info": {
   "codemirror_mode": {
    "name": "ipython",
    "version": 3
   },
   "file_extension": ".py",
   "mimetype": "text/x-python",
   "name": "python",
   "nbconvert_exporter": "python",
   "pygments_lexer": "ipython3",
   "version": "3.11.7"
  }
 },
 "nbformat": 4,
 "nbformat_minor": 2
}
