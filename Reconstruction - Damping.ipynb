{
 "cells": [
  {
   "cell_type": "code",
   "execution_count": 3,
   "metadata": {},
   "outputs": [],
   "source": [
    "import numpy as np\n",
    "import matplotlib.pyplot as plt\n",
    "import scipy.signal as scisig\n",
    "import scipy.optimize as opt\n",
    "import scipy.io as sio\n",
    "import simulation_utils as su"
   ]
  },
  {
   "cell_type": "code",
   "execution_count": null,
   "metadata": {},
   "outputs": [],
   "source": [
    "# Define some parameters\n",
    "\n",
    "w0 = 55000*2*np.pi # Natural frequency of oscillator\n",
    "P = 1*10**(-7) # Pressure in mbar\n",
    "T = 293 # Environmental temperature\n",
    "R = (0.083)*10**(-6) # Particle Radius\n",
    "p = 2200 # Particle Denisty\n",
    "dtn = 1*10**(-8) # Timestep\n",
    "M = 4/3*np.pi*R**3*p # Particle mass\n",
    "kb = 1.38*10**(-23) # Boltzmann constant\n",
    "m = 29*1.67*10**(-27) # average mass of air particles\n",
    "v = np.sqrt(8*1.38*10**(-23)*T/(np.pi*m)) # velocity of air particles\n",
    "N0 = 2.43*10**(25) # Number density of air and ambient pressure\n",
    "P0 = 1000 # Ambient pressure\n",
    "N=N0*P/P0 # Number density of air at pressure P\n",
    "\n",
    "y = (4/3*np.pi)*(m*v*N*R**2)/(M) # Damping from air\n",
    "#y = 4.10568*1e-6*P*1e2/R # Antonio's damping from air\n",
    "\n",
    "print(y)\n",
    "\n",
    "Snn = 10**(-28) # Displacement noise"
   ]
  }
 ],
 "metadata": {
  "kernelspec": {
   "display_name": "base",
   "language": "python",
   "name": "python3"
  },
  "language_info": {
   "codemirror_mode": {
    "name": "ipython",
    "version": 3
   },
   "file_extension": ".py",
   "mimetype": "text/x-python",
   "name": "python",
   "nbconvert_exporter": "python",
   "pygments_lexer": "ipython3",
   "version": "3.11.7"
  }
 },
 "nbformat": 4,
 "nbformat_minor": 2
}
